{
 "cells": [
  {
   "cell_type": "code",
   "execution_count": 10,
   "metadata": {},
   "outputs": [
    {
     "ename": "ModuleNotFoundError",
     "evalue": "No module named 'src'",
     "output_type": "error",
     "traceback": [
      "\u001b[0;31m---------------------------------------------------------------------------\u001b[0m",
      "\u001b[0;31mModuleNotFoundError\u001b[0m                       Traceback (most recent call last)",
      "Cell \u001b[0;32mIn[10], line 7\u001b[0m\n\u001b[1;32m      4\u001b[0m \u001b[38;5;66;03m# Add src directory to the Python path\u001b[39;00m\n\u001b[1;32m      5\u001b[0m sys\u001b[38;5;241m.\u001b[39mpath\u001b[38;5;241m.\u001b[39mappend(os\u001b[38;5;241m.\u001b[39mpath\u001b[38;5;241m.\u001b[39mabspath(\u001b[38;5;124m'\u001b[39m\u001b[38;5;124m../src\u001b[39m\u001b[38;5;124m'\u001b[39m))\n\u001b[0;32m----> 7\u001b[0m \u001b[38;5;28;01mfrom\u001b[39;00m \u001b[38;5;21;01magents\u001b[39;00m \u001b[38;5;28;01mimport\u001b[39;00m ImageAnalysisAgent, TextAnalysisAgent\n\u001b[1;32m      9\u001b[0m image_agent \u001b[38;5;241m=\u001b[39m ImageAnalysisAgent()\n\u001b[1;32m     10\u001b[0m text_agent \u001b[38;5;241m=\u001b[39m TextAnalysisAgent()\n",
      "File \u001b[0;32m~/semantic-image-text-alignment/src/agents.py:1\u001b[0m\n\u001b[0;32m----> 1\u001b[0m \u001b[38;5;28;01mfrom\u001b[39;00m \u001b[38;5;21;01msrc\u001b[39;00m\u001b[38;5;21;01m.\u001b[39;00m\u001b[38;5;21;01mimage_analysis\u001b[39;00m \u001b[38;5;28;01mimport\u001b[39;00m object_identification, color_identification, position_extraction, character_recognition\n\u001b[1;32m      2\u001b[0m \u001b[38;5;28;01mfrom\u001b[39;00m \u001b[38;5;21;01msrc\u001b[39;00m\u001b[38;5;21;01m.\u001b[39;00m\u001b[38;5;21;01mtext_analysis\u001b[39;00m \u001b[38;5;28;01mimport\u001b[39;00m text_summarization, key_phrase_identification, narrative_understanding\n\u001b[1;32m      4\u001b[0m \u001b[38;5;28;01mclass\u001b[39;00m \u001b[38;5;21;01mImageAnalysisAgent\u001b[39;00m:\n",
      "\u001b[0;31mModuleNotFoundError\u001b[0m: No module named 'src'"
     ]
    }
   ],
   "source": [
    "import sys\n",
    "import os\n",
    "\n",
    "# Add src directory to the Python path\n",
    "sys.path.append(os.path.abspath('../src'))\n",
    "\n",
    "from agents import ImageAnalysisAgent, TextAnalysisAgent\n",
    "\n",
    "image_agent = ImageAnalysisAgent()\n",
    "text_agent = TextAnalysisAgent()\n",
    "\n",
    "# Analyze images\n",
    "image_path = '../sample_data/fbb156a0dc35c2e9f126d5140ae6ea66/endframe_1.jpg'\n",
    "image_analysis_results = image_agent.analyze(image_path)\n",
    "print(image_analysis_results)\n",
    "\n",
    "# Analyze text\n",
    "text = \"This is a sample text description for the advertisement.\"\n",
    "text_analysis_results = text_agent.analyze(text)\n",
    "print(text_analysis_results)\n"
   ]
  }
 ],
 "metadata": {
  "kernelspec": {
   "display_name": "Python 3",
   "language": "python",
   "name": "python3"
  },
  "language_info": {
   "codemirror_mode": {
    "name": "ipython",
    "version": 3
   },
   "file_extension": ".py",
   "mimetype": "text/x-python",
   "name": "python",
   "nbconvert_exporter": "python",
   "pygments_lexer": "ipython3",
   "version": "3.8.10"
  }
 },
 "nbformat": 4,
 "nbformat_minor": 2
}
